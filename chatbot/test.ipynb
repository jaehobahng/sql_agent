{
 "cells": [
  {
   "cell_type": "code",
   "execution_count": 99,
   "metadata": {},
   "outputs": [
    {
     "name": "stdout",
     "output_type": "stream",
     "text": [
      "postgresql\n",
      "['click_data', 'purchase_data']\n",
      "[(0.9567846607669617,)]\n"
     ]
    }
   ],
   "source": [
    "import getpass\n",
    "import os\n",
    "from langchain_community.utilities import SQLDatabase\n",
    "from dotenv import load_dotenv\n",
    "\n",
    "\n",
    "load_dotenv('.env')\n",
    "os.environ[\"OPENAI_API_KEY\"] = os.getenv(\"OPENAI_API_KEY\")\n",
    "\n",
    "\n",
    "# Database connection details\n",
    "DB_HOST = os.getenv(\"DB_HOST\", \"localhost\")\n",
    "DB_PORT = os.getenv(\"DB_PORT\", \"5432\")\n",
    "DB_NAME = os.getenv(\"DB_NAME\", \"your_database_name\")\n",
    "DB_USER = os.getenv(\"DB_USER\", \"your_username\")\n",
    "DB_PASSWORD = os.getenv(\"DB_PASSWORD\", \"your_password\")\n",
    "\n",
    "engine = f'postgresql://{DB_USER}:{DB_PASSWORD}@{DB_HOST}:{DB_PORT}/{DB_NAME}'\n",
    "\n",
    "db = SQLDatabase.from_uri(engine)\n",
    "print(db.dialect)\n",
    "print(db.get_usable_table_names())\n",
    "print(db.run(\"SELECT SUM(PURCHASE_AMT_ACTUAL)/SUM(purchase_amt_original) AS AVERAGE_DISCOUNT_RATE FROM PURCHASE_DATA A WHERE EXTRACT(MONTH FROM A.DATE::DATE) = 7 AND EXTRACT(YEAR FROM A.DATE::DATE) = 2024 AND product_id IN (SELECT product_id FROM CLICK_DATA WHERE brand_name = 'Nike');\"))"
   ]
  },
  {
   "cell_type": "code",
   "execution_count": 3,
   "metadata": {},
   "outputs": [],
   "source": [
    "a = db.run(\"SELECT * FROM PURCHASE_DATA LIMIT 10;\")"
   ]
  },
  {
   "cell_type": "code",
   "execution_count": 9,
   "metadata": {},
   "outputs": [
    {
     "data": {
      "text/plain": [
       "\"SELECT SUM(purchase_amt_actual) AS total_purchase_amount\\nFROM purchase_data\\nWHERE date = '6/30/2024'\""
      ]
     },
     "execution_count": 9,
     "metadata": {},
     "output_type": "execute_result"
    }
   ],
   "source": [
    "from langchain.chains import create_sql_query_chain\n",
    "from langchain_openai import ChatOpenAI\n",
    "\n",
    "llm = ChatOpenAI(model=\"gpt-3.5-turbo\", temperature=0)\n",
    "chain = create_sql_query_chain(llm, db)\n",
    "response = chain.invoke({\"question\": \"How much was purchased on 2024-06-30\"})\n",
    "response"
   ]
  },
  {
   "cell_type": "code",
   "execution_count": 10,
   "metadata": {},
   "outputs": [
    {
     "data": {
      "text/plain": [
       "'[(734.4,)]'"
      ]
     },
     "execution_count": 10,
     "metadata": {},
     "output_type": "execute_result"
    }
   ],
   "source": [
    "db.run(response)"
   ]
  },
  {
   "cell_type": "code",
   "execution_count": 11,
   "metadata": {},
   "outputs": [
    {
     "name": "stdout",
     "output_type": "stream",
     "text": [
      "You are a PostgreSQL expert. Given an input question, first create a syntactically correct PostgreSQL query to run, then look at the results of the query and return the answer to the input question.\n",
      "Unless the user specifies in the question a specific number of examples to obtain, query for at most 5 results using the LIMIT clause as per PostgreSQL. You can order the results to return the most informative data in the database.\n",
      "Never query for all columns from a table. You must query only the columns that are needed to answer the question. Wrap each column name in double quotes (\") to denote them as delimited identifiers.\n",
      "Pay attention to use only the column names you can see in the tables below. Be careful to not query for columns that do not exist. Also, pay attention to which column is in which table.\n",
      "Pay attention to use CURRENT_DATE function to get the current date, if the question involves \"today\".\n",
      "\n",
      "Use the following format:\n",
      "\n",
      "Question: Question here\n",
      "SQLQuery: SQL Query to run\n",
      "SQLResult: Result of the SQLQuery\n",
      "Answer: Final answer here\n",
      "\n",
      "Only use the following tables:\n",
      "\u001b[33;1m\u001b[1;3m{table_info}\u001b[0m\n",
      "\n",
      "Question: \u001b[33;1m\u001b[1;3m{input}\u001b[0m\n"
     ]
    }
   ],
   "source": [
    "chain.get_prompts()[0].pretty_print()"
   ]
  },
  {
   "cell_type": "code",
   "execution_count": 12,
   "metadata": {},
   "outputs": [
    {
     "name": "stderr",
     "output_type": "stream",
     "text": [
      "/tmp/ipykernel_1810/2892724753.py:3: LangChainDeprecationWarning: The class `QuerySQLDataBaseTool` was deprecated in LangChain 0.3.12 and will be removed in 1.0. An updated version of the class exists in the :class:`~langchain-community package and should be used instead. To use it run `pip install -U :class:`~langchain-community` and import as `from :class:`~langchain_community.tools import QuerySQLDatabaseTool``.\n",
      "  execute_query = QuerySQLDataBaseTool(db=db)\n"
     ]
    },
    {
     "data": {
      "text/plain": [
       "'[(734.4,)]'"
      ]
     },
     "execution_count": 12,
     "metadata": {},
     "output_type": "execute_result"
    }
   ],
   "source": [
    "from langchain_community.tools.sql_database.tool import QuerySQLDataBaseTool\n",
    "\n",
    "execute_query = QuerySQLDataBaseTool(db=db)  # does the db.run part for you\n",
    "write_query = create_sql_query_chain(llm, db)\n",
    "chain = write_query | execute_query\n",
    "chain.invoke({\"question\": \"How much was purchased on 2024-06-30\"})"
   ]
  },
  {
   "cell_type": "code",
   "execution_count": 15,
   "metadata": {},
   "outputs": [
    {
     "data": {
      "text/plain": [
       "'The total purchase amount on June 30, 2024 was $734.40.'"
      ]
     },
     "execution_count": 15,
     "metadata": {},
     "output_type": "execute_result"
    }
   ],
   "source": [
    "from operator import itemgetter\n",
    "\n",
    "from langchain_core.output_parsers import StrOutputParser\n",
    "from langchain_core.prompts import PromptTemplate\n",
    "from langchain_core.runnables import RunnablePassthrough\n",
    "\n",
    "answer_prompt = PromptTemplate.from_template(\n",
    "    \"\"\"Given the following user question, corresponding SQL query, and SQL result, answer the user question.\n",
    "\n",
    "Question: {question}\n",
    "SQL Query: {query}\n",
    "SQL Result: {result}\n",
    "Answer: \"\"\"\n",
    ")\n",
    "\n",
    "llm = ChatOpenAI(model=\"gpt-3.5-turbo\", temperature=0)\n",
    "execute_query = QuerySQLDataBaseTool(db=db)  # does the db.run part for you\n",
    "write_query = create_sql_query_chain(llm, db)\n",
    "\n",
    "answer = answer_prompt | llm | StrOutputParser()\n",
    "chain = (\n",
    "    RunnablePassthrough.assign(query=write_query).assign(result=itemgetter(\"query\") | execute_query) | answer\n",
    ")\n",
    "\n",
    "chain.invoke({\"question\": \"How much was purchased on 2024-06-30\"})"
   ]
  },
  {
   "cell_type": "code",
   "execution_count": 21,
   "metadata": {},
   "outputs": [
    {
     "data": {
      "text/plain": [
       "RunnableAssign(mapper={\n",
       "  query: RunnableAssign(mapper={\n",
       "           input: RunnableLambda(...),\n",
       "           table_info: RunnableLambda(...)\n",
       "         })\n",
       "         | RunnableLambda(lambda x: {k: v for k, v in x.items() if k not in ('question', 'table_names_to_use')})\n",
       "         | PromptTemplate(input_variables=['input', 'table_info'], input_types={}, partial_variables={'top_k': '5'}, template='You are a PostgreSQL expert. Given an input question, first create a syntactically correct PostgreSQL query to run, then look at the results of the query and return the answer to the input question.\\nUnless the user specifies in the question a specific number of examples to obtain, query for at most {top_k} results using the LIMIT clause as per PostgreSQL. You can order the results to return the most informative data in the database.\\nNever query for all columns from a table. You must query only the columns that are needed to answer the question. Wrap each column name in double quotes (\") to denote them as delimited identifiers.\\nPay attention to use only the column names you can see in the tables below. Be careful to not query for columns that do not exist. Also, pay attention to which column is in which table.\\nPay attention to use CURRENT_DATE function to get the current date, if the question involves \"today\".\\n\\nUse the following format:\\n\\nQuestion: Question here\\nSQLQuery: SQL Query to run\\nSQLResult: Result of the SQLQuery\\nAnswer: Final answer here\\n\\nOnly use the following tables:\\n{table_info}\\n\\nQuestion: {input}')\n",
       "         | RunnableBinding(bound=ChatOpenAI(client=<openai.resources.chat.completions.Completions object at 0x7fc0f8995cd0>, async_client=<openai.resources.chat.completions.AsyncCompletions object at 0x7fc0f88dd1d0>, root_client=<openai.OpenAI object at 0x7fc0f8b2bd10>, root_async_client=<openai.AsyncOpenAI object at 0x7fc0f88d1b50>, temperature=0.0, model_kwargs={}, openai_api_key=SecretStr('**********')), kwargs={'stop': ['\\nSQLResult:']}, config={}, config_factories=[])\n",
       "         | StrOutputParser()\n",
       "         | RunnableLambda(_strip)\n",
       "})\n",
       "| RunnableAssign(mapper={\n",
       "    result: RunnableLambda(itemgetter('query'))\n",
       "            | QuerySQLDataBaseTool(db=<langchain_community.utilities.sql_database.SQLDatabase object at 0x7fc0fc7b8b10>)\n",
       "  })\n",
       "| PromptTemplate(input_variables=['query', 'question', 'result'], input_types={}, partial_variables={}, template='Given the following user question, corresponding SQL query, and SQL result, answer the user question.\\n\\nQuestion: {question}\\nSQL Query: {query}\\nSQL Result: {result}\\nAnswer: ')\n",
       "| ChatOpenAI(client=<openai.resources.chat.completions.Completions object at 0x7fc0f8995cd0>, async_client=<openai.resources.chat.completions.AsyncCompletions object at 0x7fc0f88dd1d0>, root_client=<openai.OpenAI object at 0x7fc0f8b2bd10>, root_async_client=<openai.AsyncOpenAI object at 0x7fc0f88d1b50>, temperature=0.0, model_kwargs={}, openai_api_key=SecretStr('**********'))\n",
       "| StrOutputParser()"
      ]
     },
     "execution_count": 21,
     "metadata": {},
     "output_type": "execute_result"
    }
   ],
   "source": [
    "RunnablePassthrough.assign(query=write_query).assign(result=itemgetter(\"query\") | execute_query) | answer"
   ]
  },
  {
   "cell_type": "code",
   "execution_count": null,
   "metadata": {},
   "outputs": [],
   "source": []
  },
  {
   "cell_type": "markdown",
   "metadata": {},
   "source": [
    "# Agents"
   ]
  },
  {
   "cell_type": "code",
   "execution_count": null,
   "metadata": {},
   "outputs": [],
   "source": [
    "import getpass\n",
    "import os\n",
    "from langchain_community.utilities import SQLDatabase\n",
    "from dotenv import load_dotenv\n",
    "from langchain.chains import create_sql_query_chain\n",
    "from langchain_openai import ChatOpenAI\n",
    "\n",
    "\n",
    "\n",
    "load_dotenv('.env')\n",
    "os.environ[\"OPENAI_API_KEY\"] = os.getenv(\"OPENAI_API_KEY\")\n",
    "\n",
    "\n",
    "# Database connection details\n",
    "DB_HOST = os.getenv(\"DB_HOST\", \"localhost\")\n",
    "DB_PORT = os.getenv(\"DB_PORT\", \"5432\")\n",
    "DB_NAME = os.getenv(\"DB_NAME\", \"your_database_name\")\n",
    "DB_USER = os.getenv(\"DB_USER\", \"your_username\")\n",
    "DB_PASSWORD = os.getenv(\"DB_PASSWORD\", \"your_password\")\n",
    "\n",
    "engine = f'postgresql://{DB_USER}:{DB_PASSWORD}@{DB_HOST}:{DB_PORT}/{DB_NAME}'\n",
    "\n",
    "db = SQLDatabase.from_uri(engine)\n",
    "print(db.dialect)\n",
    "print(db.get_usable_table_names())\n",
    "print(db.run(\"SELECT * FROM PURCHASE_DATA LIMIT 10;\"))"
   ]
  },
  {
   "cell_type": "code",
   "execution_count": 22,
   "metadata": {},
   "outputs": [],
   "source": [
    "from langchain_community.agent_toolkits import create_sql_agent\n",
    "llm = ChatOpenAI(model=\"gpt-3.5-turbo\", temperature=0)\n",
    "\n",
    "agent_executor = create_sql_agent(llm, db=db, agent_type=\"openai-tools\", verbose=True)"
   ]
  },
  {
   "cell_type": "code",
   "execution_count": 29,
   "metadata": {},
   "outputs": [
    {
     "name": "stdout",
     "output_type": "stream",
     "text": [
      "\n",
      "\n",
      "\u001b[1m> Entering new SQL Agent Executor chain...\u001b[0m\n",
      "\u001b[32;1m\u001b[1;3m\n",
      "Invoking: `sql_db_list_tables` with `{}`\n",
      "\n",
      "\n",
      "\u001b[0m\u001b[38;5;200m\u001b[1;3mclick_data, purchase_data\u001b[0m\u001b[32;1m\u001b[1;3m\n",
      "Invoking: `sql_db_schema` with `{'table_names': 'purchase_data'}`\n",
      "\n",
      "\n",
      "\u001b[0m\u001b[33;1m\u001b[1;3m\n",
      "CREATE TABLE purchase_data (\n",
      "\tpurchase_id BIGINT, \n",
      "\tdate TEXT, \n",
      "\tuser_id BIGINT, \n",
      "\tproduct_id BIGINT, \n",
      "\tpurchase_qty BIGINT, \n",
      "\tpurchase_amt_original BIGINT, \n",
      "\tpurchase_amt_actual DOUBLE PRECISION, \n",
      "\tproduct_actual_price DOUBLE PRECISION, \n",
      "\tproduct_original_price BIGINT\n",
      ")\n",
      "\n",
      "/*\n",
      "3 rows from purchase_data table:\n",
      "purchase_id\tdate\tuser_id\tproduct_id\tpurchase_qty\tpurchase_amt_original\tpurchase_amt_actual\tproduct_actual_price\tproduct_original_price\n",
      "1\t6/30/2024\t78\t2\t2\t918\t734.4\t367.2\t459\n",
      "2\t5/3/2024\t98\t3\t2\t198\t178.2\t89.1\t99\n",
      "3\t5/10/2024\t63\t2\t3\t1377\t1101.6\t367.2\t459\n",
      "*/\u001b[0m\u001b[32;1m\u001b[1;3m\n",
      "Invoking: `sql_db_query` with `{'query': 'SELECT product_id, purchase_amt_actual FROM purchase_data ORDER BY purchase_amt_actual DESC LIMIT 10'}`\n",
      "\n",
      "\n",
      "\u001b[0m\u001b[36;1m\u001b[1;3m[(10, 2411.5), (5, 2020.5), (5, 2020.5), (5, 2020.5), (10, 1929.2), (10, 1929.2), (10, 1929.2), (5, 1616.4), (5, 1616.4), (5, 1616.4)]\u001b[0m\u001b[32;1m\u001b[1;3mThe top 10 products with the highest purchase_amt_actual are as follows:\n",
      "\n",
      "1. Product ID: 10, Purchase Amount Actual: 2411.5\n",
      "2. Product ID: 5, Purchase Amount Actual: 2020.5\n",
      "3. Product ID: 5, Purchase Amount Actual: 2020.5\n",
      "4. Product ID: 5, Purchase Amount Actual: 2020.5\n",
      "5. Product ID: 10, Purchase Amount Actual: 1929.2\n",
      "6. Product ID: 10, Purchase Amount Actual: 1929.2\n",
      "7. Product ID: 10, Purchase Amount Actual: 1929.2\n",
      "8. Product ID: 5, Purchase Amount Actual: 1616.4\n",
      "9. Product ID: 5, Purchase Amount Actual: 1616.4\n",
      "10. Product ID: 5, Purchase Amount Actual: 1616.4\u001b[0m\n",
      "\n",
      "\u001b[1m> Finished chain.\u001b[0m\n"
     ]
    },
    {
     "data": {
      "text/plain": [
       "{'input': 'Top 10 products with the highest purchase_amt_actual?',\n",
       " 'output': 'The top 10 products with the highest purchase_amt_actual are as follows:\\n\\n1. Product ID: 10, Purchase Amount Actual: 2411.5\\n2. Product ID: 5, Purchase Amount Actual: 2020.5\\n3. Product ID: 5, Purchase Amount Actual: 2020.5\\n4. Product ID: 5, Purchase Amount Actual: 2020.5\\n5. Product ID: 10, Purchase Amount Actual: 1929.2\\n6. Product ID: 10, Purchase Amount Actual: 1929.2\\n7. Product ID: 10, Purchase Amount Actual: 1929.2\\n8. Product ID: 5, Purchase Amount Actual: 1616.4\\n9. Product ID: 5, Purchase Amount Actual: 1616.4\\n10. Product ID: 5, Purchase Amount Actual: 1616.4'}"
      ]
     },
     "execution_count": 29,
     "metadata": {},
     "output_type": "execute_result"
    }
   ],
   "source": [
    "agent_executor.invoke(\n",
    "    {\n",
    "        \"input\": \"Top 10 products with the highest purchase_amt_actual?\"\n",
    "    }\n",
    ")"
   ]
  },
  {
   "cell_type": "code",
   "execution_count": 100,
   "metadata": {},
   "outputs": [],
   "source": [
    "examples = [\n",
    "    {\n",
    "        \"input\": \"Which brand was sold the most?\",\n",
    "        \"query\": \"SELECT B.BRAND_NAME FROM PURCHASE_DATA A LEFT JOIN CLICK_DATA B ON A.PRODUCT_ID = B.PRODUCT_ID GROUP BY B.BRAND_NAME ORDER BY SUM(A.PURCHASE_AMT_ACTUAL) DESC LIMIT 1;\",\n",
    "    },\n",
    "    {\n",
    "        \"input\": \"Which category was sold the most?\",\n",
    "        \"query\": \"SELECT B.PRODUCT_CATEGORY FROM PURCHASE_DATA A LEFT JOIN CLICK_DATA B ON A.PRODUCT_ID = B.PRODUCT_ID GROUP BY B.PRODUCT_CATEGORY ORDER BY SUM(A.PURCHASE_AMT_ACTUAL) DESC LIMIT 1;\",\n",
    "    },    \n",
    "    {\n",
    "        \"input\": \"What is the average discount rate made by nike?\",\n",
    "        \"query\": \"SELECT B.BRAND_NAME, SUM(A.PURCHASE_AMT_ACTUAL)/SUM(A.purchase_amt_original) AS AVERAGE_DISCOUNT_RATE FROM PURCHASE_DATA A LEFT JOIN CLICK_DATA B ON A.PRODUCT_ID = B.PRODUCT_ID WHERE B.BRAND_NAME = 'Nike' GROUP BY B.BRAND_NAME;\",\n",
    "    },  \n",
    "    {\n",
    "        \"input\": \"What is the average discount rate made by addidas?\",\n",
    "        \"query\": \"SELECT B.BRAND_NAME, SUM(A.PURCHASE_AMT_ACTUAL)/SUM(A.purchase_amt_original) AS AVERAGE_DISCOUNT_RATE FROM PURCHASE_DATA A LEFT JOIN CLICK_DATA B ON A.PRODUCT_ID = B.PRODUCT_ID WHERE B.BRAND_NAME = 'Addidas' GROUP BY B.BRAND_NAME;\",\n",
    "    },  \n",
    "    {\n",
    "        \"input\": \"What is the average discount rate made by nike during july 2024?\",\n",
    "        \"query\": \"SELECT SUM(PURCHASE_AMT_ACTUAL)/SUM(purchase_amt_original) AS AVERAGE_DISCOUNT_RATE FROM PURCHASE_DATA A WHERE EXTRACT(MONTH FROM A.DATE::DATE) = 7 AND EXTRACT(YEAR FROM A.DATE::DATE) = 2024 AND product_id IN (SELECT product_id FROM CLICK_DATA WHERE brand_name = 'Nike');\",\n",
    "    },    \n",
    "]"
   ]
  },
  {
   "cell_type": "code",
   "execution_count": 101,
   "metadata": {},
   "outputs": [],
   "source": [
    "from langchain_community.vectorstores import FAISS\n",
    "from langchain_core.example_selectors import SemanticSimilarityExampleSelector\n",
    "from langchain_openai import OpenAIEmbeddings\n",
    "\n",
    "example_selector = SemanticSimilarityExampleSelector.from_examples(\n",
    "    examples,\n",
    "    OpenAIEmbeddings(),\n",
    "    FAISS,\n",
    "    k=5,\n",
    "    input_keys=[\"input\"],\n",
    ")"
   ]
  },
  {
   "cell_type": "code",
   "execution_count": 102,
   "metadata": {},
   "outputs": [],
   "source": [
    "from langchain_core.prompts import (\n",
    "    ChatPromptTemplate,\n",
    "    FewShotPromptTemplate,\n",
    "    MessagesPlaceholder,\n",
    "    PromptTemplate,\n",
    "    SystemMessagePromptTemplate,\n",
    ")\n",
    "\n",
    "system_prefix = \"\"\"You are an agent designed to interact with a SQL database.\n",
    "Given an input question, create a syntactically correct {dialect} query to run, then look at the results of the query and return the answer.\n",
    "Unless the user specifies a specific number of examples they wish to obtain, always limit your query to at most {top_k} results.\n",
    "You can order the results by a relevant column to return the most interesting examples in the database.\n",
    "Never query for all the columns from a specific table, only ask for the relevant columns given the question.\n",
    "You have access to tools for interacting with the database.\n",
    "Only use the given tools. Only use the information returned by the tools to construct your final answer.\n",
    "You MUST double check your query before executing it. If you get an error while executing a query, rewrite the query and try again.\n",
    "\n",
    "DO NOT make any DML statements (INSERT, UPDATE, DELETE, DROP etc.) to the database.\n",
    "\n",
    "If the question does not seem related to the database, just return \"I don't know\" as the answer.\n",
    "\n",
    "Here are some examples of user inputs and their corresponding SQL queries:\"\"\"\n",
    "\n",
    "few_shot_prompt = FewShotPromptTemplate(\n",
    "    example_selector=example_selector,\n",
    "    example_prompt=PromptTemplate.from_template(\n",
    "        \"User input: {input}\\nSQL query: {query}\"\n",
    "    ),\n",
    "    input_variables=[\"input\", \"dialect\", \"top_k\"],\n",
    "    prefix=system_prefix,\n",
    "    suffix=\"\",\n",
    ")"
   ]
  },
  {
   "cell_type": "code",
   "execution_count": 103,
   "metadata": {},
   "outputs": [],
   "source": [
    "full_prompt = ChatPromptTemplate.from_messages(\n",
    "    [\n",
    "        SystemMessagePromptTemplate(prompt=few_shot_prompt),\n",
    "        (\"human\", \"{input}\"),\n",
    "        MessagesPlaceholder(\"agent_scratchpad\"),\n",
    "    ]\n",
    ")"
   ]
  },
  {
   "cell_type": "code",
   "execution_count": 104,
   "metadata": {},
   "outputs": [
    {
     "name": "stdout",
     "output_type": "stream",
     "text": [
      "System: You are an agent designed to interact with a SQL database.\n",
      "Given an input question, create a syntactically correct postgres query to run, then look at the results of the query and return the answer.\n",
      "Unless the user specifies a specific number of examples they wish to obtain, always limit your query to at most 5 results.\n",
      "You can order the results by a relevant column to return the most interesting examples in the database.\n",
      "Never query for all the columns from a specific table, only ask for the relevant columns given the question.\n",
      "You have access to tools for interacting with the database.\n",
      "Only use the given tools. Only use the information returned by the tools to construct your final answer.\n",
      "You MUST double check your query before executing it. If you get an error while executing a query, rewrite the query and try again.\n",
      "\n",
      "DO NOT make any DML statements (INSERT, UPDATE, DELETE, DROP etc.) to the database.\n",
      "\n",
      "If the question does not seem related to the database, just return \"I don't know\" as the answer.\n",
      "\n",
      "Here are some examples of user inputs and their corresponding SQL queries:\n",
      "\n",
      "User input: Which brand was sold the most?\n",
      "SQL query: SELECT B.BRAND_NAME FROM PURCHASE_DATA A LEFT JOIN CLICK_DATA B ON A.PRODUCT_ID = B.PRODUCT_ID GROUP BY B.BRAND_NAME ORDER BY SUM(A.PURCHASE_AMT_ACTUAL) DESC LIMIT 1;\n",
      "\n",
      "User input: Which category was sold the most?\n",
      "SQL query: SELECT B.PRODUCT_CATEGORY FROM PURCHASE_DATA A LEFT JOIN CLICK_DATA B ON A.PRODUCT_ID = B.PRODUCT_ID GROUP BY B.PRODUCT_CATEGORY ORDER BY SUM(A.PURCHASE_AMT_ACTUAL) DESC LIMIT 1;\n",
      "\n",
      "User input: What is the average discount rate made by addidas?\n",
      "SQL query: SELECT B.BRAND_NAME, SUM(A.PURCHASE_AMT_ACTUAL)/SUM(A.purchase_amt_original) AS AVERAGE_DISCOUNT_RATE FROM PURCHASE_DATA A LEFT JOIN CLICK_DATA B ON A.PRODUCT_ID = B.PRODUCT_ID WHERE B.BRAND_NAME = 'Addidas' GROUP BY B.BRAND_NAME;\n",
      "\n",
      "User input: What is the average discount rate made by nike?\n",
      "SQL query: SELECT B.BRAND_NAME, SUM(A.PURCHASE_AMT_ACTUAL)/SUM(A.purchase_amt_original) AS AVERAGE_DISCOUNT_RATE FROM PURCHASE_DATA A LEFT JOIN CLICK_DATA B ON A.PRODUCT_ID = B.PRODUCT_ID WHERE B.BRAND_NAME = 'Nike' GROUP BY B.BRAND_NAME;\n",
      "\n",
      "User input: What is the average discount rate made by nike during july 2024?\n",
      "SQL query: SELECT SUM(PURCHASE_AMT_ACTUAL)/SUM(purchase_amt_original) AS AVERAGE_DISCOUNT_RATE FROM PURCHASE_DATA A WHERE EXTRACT(MONTH FROM A.DATE::DATE) = 7 AND EXTRACT(YEAR FROM A.DATE::DATE) = 2024 AND product_id IN (SELECT product_id FROM CLICK_DATA WHERE brand_name = 'Nike');\n",
      "Human: Which brand was sold the most?\n"
     ]
    }
   ],
   "source": [
    "# Example formatted prompt\n",
    "prompt_val = full_prompt.invoke(\n",
    "    {\n",
    "        \"input\": \"Which brand was sold the most?\",\n",
    "        \"top_k\": 5,\n",
    "        \"dialect\": \"postgres\",\n",
    "        \"agent_scratchpad\": [],\n",
    "    }\n",
    ")\n",
    "print(prompt_val.to_string())"
   ]
  },
  {
   "cell_type": "code",
   "execution_count": 105,
   "metadata": {},
   "outputs": [],
   "source": [
    "agent = create_sql_agent(\n",
    "    llm=llm,\n",
    "    db=db,\n",
    "    prompt=full_prompt,\n",
    "    verbose=True,\n",
    "    agent_type=\"openai-tools\",\n",
    ")"
   ]
  },
  {
   "cell_type": "code",
   "execution_count": 106,
   "metadata": {},
   "outputs": [
    {
     "name": "stdout",
     "output_type": "stream",
     "text": [
      "\n",
      "\n",
      "\u001b[1m> Entering new SQL Agent Executor chain...\u001b[0m\n",
      "\u001b[32;1m\u001b[1;3m\n",
      "Invoking: `sql_db_query` with `{'query': \"SELECT SUM(PURCHASE_AMT_ACTUAL)/SUM(purchase_amt_original) AS AVERAGE_DISCOUNT_RATE FROM PURCHASE_DATA A WHERE EXTRACT(MONTH FROM A.DATE::DATE) = 7 AND EXTRACT(YEAR FROM A.DATE::DATE) = 2024 AND product_id IN (SELECT product_id FROM CLICK_DATA WHERE brand_name = 'Nike');\"}`\n",
      "\n",
      "\n",
      "\u001b[0m\u001b[36;1m\u001b[1;3m[(0.9567846607669617,)]\u001b[0m\u001b[32;1m\u001b[1;3mThe average discount rate made by Nike during July 2024 is approximately 95.68%.\u001b[0m\n",
      "\n",
      "\u001b[1m> Finished chain.\u001b[0m\n"
     ]
    },
    {
     "data": {
      "text/plain": [
       "{'input': 'What is the average discount rate made by nike during july 2024?',\n",
       " 'output': 'The average discount rate made by Nike during July 2024 is approximately 95.68%.'}"
      ]
     },
     "execution_count": 106,
     "metadata": {},
     "output_type": "execute_result"
    }
   ],
   "source": [
    "agent.invoke({\"input\": \"What is the average discount rate made by nike during july 2024?\"})"
   ]
  },
  {
   "cell_type": "code",
   "execution_count": null,
   "metadata": {},
   "outputs": [],
   "source": []
  }
 ],
 "metadata": {
  "kernelspec": {
   "display_name": "Python 3",
   "language": "python",
   "name": "python3"
  },
  "language_info": {
   "codemirror_mode": {
    "name": "ipython",
    "version": 3
   },
   "file_extension": ".py",
   "mimetype": "text/x-python",
   "name": "python",
   "nbconvert_exporter": "python",
   "pygments_lexer": "ipython3",
   "version": "3.11.11"
  }
 },
 "nbformat": 4,
 "nbformat_minor": 2
}
